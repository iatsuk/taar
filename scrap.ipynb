{
 "cells": [
  {
   "cell_type": "markdown",
   "metadata": {},
   "source": [
    "# Recipes scraping"
   ]
  },
  {
   "cell_type": "markdown",
   "metadata": {},
   "source": [
    "## Spiders"
   ]
  },
  {
   "cell_type": "code",
   "execution_count": 1,
   "metadata": {},
   "outputs": [
    {
     "data": {
      "text/plain": [
       "'ru_RU.UTF-8'"
      ]
     },
     "execution_count": 1,
     "metadata": {},
     "output_type": "execute_result"
    }
   ],
   "source": [
    "import requests\n",
    "from fake_useragent import UserAgent\n",
    "from lxml import html, etree\n",
    "import unicodedata\n",
    "import locale\n",
    "import time\n",
    "\n",
    "locale.setlocale(locale.LC_TIME, 'ru_RU.UTF-8')"
   ]
  },
  {
   "cell_type": "code",
   "execution_count": 116,
   "metadata": {},
   "outputs": [],
   "source": [
    "class BaseScrapper:\n",
    "\n",
    "    def __init__(self, with_item_page: bool = True, user_agent: str = UserAgent().random, crawl_delay: int = 0):\n",
    "        self._with_item_page = with_item_page\n",
    "        self._crawl_delay = crawl_delay\n",
    "        self._last_item_urls: set = set()\n",
    "        self._data_to_return: list = []\n",
    "        self._session = requests.Session()\n",
    "        self._session.headers.update({'User-Agent': user_agent, })\n",
    "\n",
    "    def __iter__(self) -> iter:\n",
    "        return self\n",
    "\n",
    "    def __next__(self):\n",
    "        if len(self._data_to_return) == 0:\n",
    "            data = self._crawl_data()\n",
    "            item_urls = set([item['url'] for item in data])\n",
    "            if self._last_item_urls != item_urls:\n",
    "                self._last_item_urls = item_urls\n",
    "                self._data_to_return = data\n",
    "                return self.__next__()\n",
    "            else:\n",
    "                raise StopIteration\n",
    "        else:\n",
    "            return self._data_to_return.pop()\n",
    "\n",
    "    def _crawl_data(self) -> list:\n",
    "        url = self._next_url()\n",
    "        page = self._get_page(url)\n",
    "        data = self._extract_data(url, page)\n",
    "        if self._with_item_page:\n",
    "            return self._crawl_page_data(data)\n",
    "        else:\n",
    "            return data\n",
    "\n",
    "    def _crawl_page_data(self, data) -> list:\n",
    "        new_data = []\n",
    "        for item in data:\n",
    "            page_url = self._get_item_page(item)\n",
    "            page = self._get_page(page_url)\n",
    "            try:\n",
    "                parsed_page = self._parse_item_page(page)\n",
    "            except Exception:\n",
    "                parsed_page = dict()\n",
    "            merged = self._merge(item, parsed_page)\n",
    "            new_data.append(merged)\n",
    "        return new_data\n",
    "\n",
    "    def _get_page(self, url) -> html.HtmlElement:\n",
    "        time.sleep(self._crawl_delay)\n",
    "        content = self._session.get(url).text\n",
    "        #         if (self._session.status_code != requests.codes.ok):\n",
    "        #             raise Exception('Response code', self._session.status_code, 'for url', url)\n",
    "        parsed = html.fromstring(content)\n",
    "        return parsed\n",
    "\n",
    "    def _extract_data(self, url: str, parsed: html.HtmlElement) -> list:\n",
    "        data = []\n",
    "        items = self._get_items(parsed)\n",
    "        for item in items:\n",
    "            try:\n",
    "                parsed = self._parse_item(item)\n",
    "                data.append(parsed)\n",
    "            except Exception:\n",
    "                print('item fail:', url)\n",
    "        return data\n",
    "\n",
    "    def _next_url(self) -> str:\n",
    "        raise NotImplementedError\n",
    "\n",
    "    def _get_items(self, page: html.HtmlElement) -> list:\n",
    "        raise NotImplementedError\n",
    "\n",
    "    def _parse_item(self, item: html.HtmlElement) -> dict:\n",
    "        raise NotImplementedError\n",
    "\n",
    "    def _get_item_page(self, item) -> str:\n",
    "        raise NotImplementedError\n",
    "\n",
    "    def _parse_item_page(self, page: html.HtmlElement) -> dict:\n",
    "        raise NotImplementedError\n",
    "\n",
    "    def _merge(self, item: dict, page: dict) -> dict:\n",
    "        raise NotImplementedError"
   ]
  },
  {
   "cell_type": "code",
   "execution_count": 136,
   "metadata": {},
   "outputs": [],
   "source": [
    "class RussianFoodScrapper(BaseScrapper):\n",
    "\n",
    "    def __init__(self, with_item_page: bool = True, user_agent: str = UserAgent().random, crawl_delay: int = 1):\n",
    "        super().__init__(with_item_page=with_item_page, user_agent=user_agent, crawl_delay=crawl_delay)\n",
    "\n",
    "    def _next_url(self) -> str:\n",
    "        host = 'https://www.russianfood.com'\n",
    "        start_page = 127\n",
    "        end_page = 220\n",
    "        if not hasattr(self, '_cur_page'):\n",
    "            self._cur_page = start_page\n",
    "        elif self._cur_page <= end_page:\n",
    "            self._cur_page += 1\n",
    "        return f'{host}/?page={self._cur_page}'\n",
    "\n",
    "    def _get_items(self, page: html.HtmlElement) -> list:\n",
    "        return page.xpath('//div[@class=\"annonce annonce_orange\"]')\n",
    "\n",
    "    def _parse_item(self, item: html.HtmlElement) -> dict:\n",
    "        return {\n",
    "            'raw_head': etree.tostring(item),\n",
    "            'url': 'https://www.russianfood.com' + item.xpath('.//table[@class=\"top\"]//td[@class=\"tc22\"]//td[@class=\"toptext\"]/p/a[@class=\"title\"]/@href')[0],\n",
    "        }\n",
    "\n",
    "    def _get_item_page(self, item) -> str:\n",
    "        return item['url']\n",
    "\n",
    "    def _parse_item_page(self, page: html.HtmlElement) -> dict:\n",
    "        return {\n",
    "            'raw_body': etree.tostring(page.xpath('.//table[@class=\"recipe_new \"]')[0]),\n",
    "            'name': self._text(page.xpath('//table[@class=\"recipe_new \"]//h1[@class=\"title \"]/text()')[0]),\n",
    "            'ingr': self._parse_ingr(page.xpath('//table[@class=\"recipe_new \"]//table[@class=\"ingr_block\"]//table[@class=\"ingr\"]//tr[contains(@class, \"ingr\")]//span/text()')),\n",
    "            'ingr_ext': self._parse_ingr_ext(page.xpath('//table[@class=\"recipe_new \"]//table[@class=\"ingr_block\"]//table[@class=\"ingr\"]//tr[contains(@class, \"ingr\")]//span/text()')),\n",
    "            'recipe': self._text(' '.join(page.xpath('//table[@class=\"recipe_new \"]//table[@class=\"step_images\"]//tr//p/text()'))).replace('\\r\\n', ' ').replace('\\n', ' '),\n",
    "            'complexity': len(self._parse_ingr_ext(page.xpath('//table[@class=\"recipe_new \"]//table[@class=\"ingr_block\"]//table[@class=\"ingr\"]//tr[contains(@class, \"ingr\")]//span/text()'))),\n",
    "        }\n",
    "\n",
    "    def _merge(self, item: dict, page: dict) -> dict:\n",
    "        return {**item, **page}\n",
    "\n",
    "    def _text(self, s) -> str:\n",
    "        return unicodedata.normalize('NFKD', s)\n",
    "\n",
    "    def _parse_ingr(self, items):\n",
    "        products = [self._text(item).split('-')[0].split() for item in items]\n",
    "        return [item.lower() for sublist in products for item in sublist]\n",
    "\n",
    "    def _parse_ingr_ext(self, items):\n",
    "        return [self._text(item) for item in items]"
   ]
  },
  {
   "cell_type": "markdown",
   "metadata": {},
   "source": [
    "## Persisting"
   ]
  },
  {
   "cell_type": "markdown",
   "metadata": {},
   "source": [
    "Create mongodb docker container"
   ]
  },
  {
   "cell_type": "code",
   "execution_count": 96,
   "metadata": {},
   "outputs": [
    {
     "name": "stdout",
     "output_type": "stream",
     "text": [
      "51562b656f1aee10947680690bda04b552f622e5c4119a4959eb20713b76f935\n"
     ]
    }
   ],
   "source": [
    "!docker run -d -p 27017:27017 --name mongodb mongo"
   ]
  },
  {
   "cell_type": "markdown",
   "metadata": {},
   "source": [
    "Start mongo db"
   ]
  },
  {
   "cell_type": "code",
   "execution_count": null,
   "metadata": {},
   "outputs": [],
   "source": [
    "!docker start mongodb"
   ]
  },
  {
   "cell_type": "markdown",
   "metadata": {},
   "source": [
    "Run spiders and fill database"
   ]
  },
  {
   "cell_type": "code",
   "execution_count": 3,
   "metadata": {},
   "outputs": [],
   "source": [
    "from pymongo import MongoClient"
   ]
  },
  {
   "cell_type": "code",
   "execution_count": 137,
   "metadata": {},
   "outputs": [],
   "source": [
    "mongo = MongoClient('localhost', 27017)\n",
    "db = mongo.recipes"
   ]
  },
  {
   "cell_type": "code",
   "execution_count": 139,
   "metadata": {},
   "outputs": [],
   "source": [
    "def fill_via_scrapper(recipes, collections, update_only=False):\n",
    "    k = 0\n",
    "    for recipe in recipes:\n",
    "        k += 1\n",
    "        matched = [collection.update_one({'_id': recipe['url']}, {'$set': recipe}, upsert=True).matched_count for collection in collections]\n",
    "        if update_only and sum(matched) > 0:\n",
    "            break\n",
    "        if k % 10 == 0:\n",
    "            print(k)"
   ]
  },
  {
   "cell_type": "code",
   "execution_count": 140,
   "metadata": {},
   "outputs": [],
   "source": [
    "fill_via_scrapper(RussianFoodScrapper(), [db.dishes])"
   ]
  },
  {
   "cell_type": "markdown",
   "metadata": {},
   "source": [
    "Get dump from mongodb container"
   ]
  },
  {
   "cell_type": "code",
   "execution_count": 126,
   "metadata": {},
   "outputs": [
    {
     "name": "stdout",
     "output_type": "stream",
     "text": [
      "2020-02-29T13:42:56.331+0000\twriting recipes.dishes to \n",
      "2020-02-29T13:42:57.165+0000\tdone dumping recipes.dishes (1277 documents)\n",
      "tar: Removing leading `/' from member names\n"
     ]
    }
   ],
   "source": [
    "!docker exec -it mongodb mongodump --out=/backup/ --db=recipes\n",
    "!docker exec -it mongodb tar czf dump.mongo.tgz /backup\n",
    "!docker cp mongodb:/dump.mongo.tgz dump.mongo.tgz\n",
    "!docker exec -it mongodb rm -rf /backup /dump.mongo.tgz"
   ]
  },
  {
   "cell_type": "markdown",
   "metadata": {},
   "source": [
    "Put dump into mongodb container"
   ]
  },
  {
   "cell_type": "code",
   "execution_count": null,
   "metadata": {},
   "outputs": [],
   "source": [
    "!docker cp dump.mongo.tgz mongodb:/dump.mongo.tgz\n",
    "!docker exec -it mongodb tar xzf dump.mongo.tgz\n",
    "!docker exec -it mongodb mongorestore /backup\n",
    "!docker exec -it mongodb rm -rf /backup /dump.mongo.tgz"
   ]
  },
  {
   "cell_type": "markdown",
   "metadata": {},
   "source": [
    "Shutdown mongo db"
   ]
  },
  {
   "cell_type": "code",
   "execution_count": null,
   "metadata": {},
   "outputs": [],
   "source": [
    "!docker stop mongodb"
   ]
  },
  {
   "cell_type": "markdown",
   "metadata": {},
   "source": [
    "## Data validation"
   ]
  },
  {
   "cell_type": "code",
   "execution_count": null,
   "metadata": {},
   "outputs": [],
   "source": [
    "from pprint import pprint"
   ]
  },
  {
   "cell_type": "code",
   "execution_count": 2,
   "metadata": {},
   "outputs": [],
   "source": [
    "def get_data(ingr, collection, limit):\n",
    "    for recipe in collection.find({'ingr': ingr}, {'name': 1, 'ingr': 1, 'url': 1}):\n",
    "        print(recipe['name'])\n",
    "        print('url:', recipe['url'])\n",
    "        pprint(recipe['ingr'])\n",
    "        print()\n",
    "        limit -= 1\n",
    "        if limit <= 0:\n",
    "            break"
   ]
  },
  {
   "cell_type": "code",
   "execution_count": null,
   "metadata": {},
   "outputs": [],
   "source": [
    "get_data('фарш', food_db.recipes, 3)"
   ]
  },
  {
   "cell_type": "markdown",
   "metadata": {},
   "source": [
    "## Test data"
   ]
  },
  {
   "cell_type": "markdown",
   "metadata": {},
   "source": [
    "### fill data"
   ]
  },
  {
   "cell_type": "code",
   "execution_count": 6,
   "metadata": {},
   "outputs": [],
   "source": [
    "recipe1 = {\n",
    "    '_id': 'test1', \n",
    "    'tags': ['вегетерианский', 'китайский'],\n",
    "    'ingr': ['яйцо', 'яблоко'],\n",
    "    'recipe': 'Выпейте вырое яйцо, закусывая яблоком',\n",
    "    'name': 'Суровая жизнь'\n",
    "}\n",
    "\n",
    "recipe2 = {\n",
    "    '_id': 'test2', \n",
    "    'ingr': ['яйцо', 'хлеб', 'масло'],\n",
    "    'recipe': 'Пожарьте яйцо и съешьте с хлебом',\n",
    "    'name': 'Глазунья'\n",
    "}\n",
    "\n",
    "for recipe in [recipe1, recipe2]:\n",
    "    db.test.update_one({'_id': recipe['_id']}, {'$set': recipe}, upsert=True)"
   ]
  },
  {
   "cell_type": "markdown",
   "metadata": {},
   "source": [
    "### read data"
   ]
  },
  {
   "cell_type": "code",
   "execution_count": 27,
   "metadata": {},
   "outputs": [
    {
     "data": {
      "text/plain": [
       "[{'ingr': ['яйцо', 'яблоко'],\n",
       "  'name': 'Суровая жизнь',\n",
       "  'recipe': 'Выпейте вырое яйцо, закусывая яблоком',\n",
       "  'tags': ['вегетерианский', 'китайский']}]"
      ]
     },
     "execution_count": 27,
     "metadata": {},
     "output_type": "execute_result"
    }
   ],
   "source": [
    "[x for x in db.test.find({\"ingr\": {\"$all\": [\"яйцо\", \"яблоко\"]}}, {'_id': 0, 'raw': 0})]"
   ]
  },
  {
   "cell_type": "code",
   "execution_count": 5,
   "metadata": {},
   "outputs": [
    {
     "name": "stdout",
     "output_type": "stream",
     "text": [
      "Подготовить составляющие слоеного салата с килькой в томате.    Картофель и морковь отварить в подсоленной воде до готовности (20-25 минут), достать из отвара и остудить.  Остывшие отварные овощи очистить.   Яйцо залить холодной водой, отварить вкрутую (8 минут) и остудить в холодной воде.  Остывшее яйцо очистить.   Репчатый лук очистить.  Также для маринования лука понадобится холодная вода, уксус, сахар и соль.  Лук мелко нарезать, добавить к нему 50 мл холодной воды, уксус, соль и сахар.  \n",
      "\n",
      " Перемешать и оставить на 10 минут.  Морковь натереть на крупной тёрке.  Яйцо натереть на крупной тёрке.  Огурцы тоже натереть на крупной тёрке.  Отжать сок.  Картофель натереть на крупной тёрке.  Кильку достать из банки и выложить на тарелку.  Большую часть соуса оставьте в банке, он не понадобится.   Размять кильку вилкой.  На плоскую тарелку установить кулинарное кольцо (диаметр - 8 см).   Первым слоем выложить картофель и утрамбовать ложкой или прессом для салатов.  Смазать майонезом.  \n",
      "\n",
      " Лук откинуть на сито, чтобы стёк весь маринад, и выложить следующим слоем.  Поверх распределить кильку.  Следом выложить морковь, утрамбовать и смазать майонезом.  Если позволяет высота кольца, повторить слой картофеля.   На морковь выложить огурцы, утрамбовать и тоже смазать майонезом.  Последним слоем выложить яйца.  Оставить салат в холодильнике на полчаса.  Снять кулинарное кольцо.  Украсить слоёный салат с килькой в томате и солёными огурцами зеленью петрушки и подать.   Приятного аппетита!.  \n",
      "\n"
     ]
    },
    {
     "data": {
      "text/plain": [
       "[None, None, None]"
      ]
     },
     "execution_count": 5,
     "metadata": {},
     "output_type": "execute_result"
    }
   ],
   "source": [
    "def split_text(text):\n",
    "    s = text.split('.')\n",
    "    k = 0\n",
    "    i = 0\n",
    "    a = ['']\n",
    "    for w in s:\n",
    "        if k + len(w) + 2 > 500:\n",
    "            k = 0\n",
    "            i += 1\n",
    "            a.append('')\n",
    "        else:\n",
    "            k += len(w) + 2\n",
    "        a[i] += w + '. '\n",
    "    return a\n",
    "\n",
    "text = 'Подготовить составляющие слоеного салата с килькой в томате.   Картофель и морковь отварить в подсоленной воде до готовности (20-25 минут), достать из отвара и остудить. Остывшие отварные овощи очистить.  Яйцо залить холодной водой, отварить вкрутую (8 минут) и остудить в холодной воде. Остывшее яйцо очистить.  Репчатый лук очистить. Также для маринования лука понадобится холодная вода, уксус, сахар и соль. Лук мелко нарезать, добавить к нему 50 мл холодной воды, уксус, соль и сахар. Перемешать и оставить на 10 минут. Морковь натереть на крупной тёрке. Яйцо натереть на крупной тёрке. Огурцы тоже натереть на крупной тёрке. Отжать сок. Картофель натереть на крупной тёрке. Кильку достать из банки и выложить на тарелку. Большую часть соуса оставьте в банке, он не понадобится.  Размять кильку вилкой. На плоскую тарелку установить кулинарное кольцо (диаметр - 8 см).  Первым слоем выложить картофель и утрамбовать ложкой или прессом для салатов. Смазать майонезом. Лук откинуть на сито, чтобы стёк весь маринад, и выложить следующим слоем. Поверх распределить кильку. Следом выложить морковь, утрамбовать и смазать майонезом. Если позволяет высота кольца, повторить слой картофеля.  На морковь выложить огурцы, утрамбовать и тоже смазать майонезом. Последним слоем выложить яйца. Оставить салат в холодильнике на полчаса. Снять кулинарное кольцо. Украсить слоёный салат с килькой в томате и солёными огурцами зеленью петрушки и подать.  Приятного аппетита!'\n",
    "[print(s, '\\n') for s in split_text(text)]"
   ]
  },
  {
   "cell_type": "code",
   "execution_count": 7,
   "metadata": {},
   "outputs": [
    {
     "data": {
      "text/plain": [
       "[{'_id': 'test1',\n",
       "  'ingr': ['яйцо', 'яблоко'],\n",
       "  'name': 'Суровая жизнь',\n",
       "  'recipe': 'Выпейте вырое яйцо, закусывая яблоком',\n",
       "  'tags': ['вегетерианский', 'китайский'],\n",
       "  'complexity': 2,\n",
       "  'recipe_size': 6},\n",
       " {'_id': 'test2',\n",
       "  'ingr': ['яйцо', 'хлеб', 'масло'],\n",
       "  'name': 'Глазунья',\n",
       "  'recipe': 'Пожарьте яйцо и съешьте с хлебом',\n",
       "  'complexity': 3,\n",
       "  'recipe_size': 6}]"
      ]
     },
     "execution_count": 7,
     "metadata": {},
     "output_type": "execute_result"
    }
   ],
   "source": [
    "[x for x in db.test.find({})]"
   ]
  },
  {
   "cell_type": "code",
   "execution_count": 9,
   "metadata": {},
   "outputs": [
    {
     "data": {
      "text/plain": [
       "[{'ingr': ['яйцо', 'яблоко'],\n",
       "  'name': 'Суровая жизнь',\n",
       "  'recipe': 'Выпейте вырое яйцо, закусывая яблоком',\n",
       "  'tags': ['вегетерианский', 'китайский'],\n",
       "  'complexity': 2,\n",
       "  'recipe_size': 6}]"
      ]
     },
     "execution_count": 9,
     "metadata": {},
     "output_type": "execute_result"
    }
   ],
   "source": [
    "[x for x in db.test.find({'$query': {\"ingr\": {\"$in\": [\"масло\", \"яблоко\"]}}, \"$orderby\": { 'complexity' : 1 }}, {'_id': 0, 'raw': 0}).limit(1)]"
   ]
  },
  {
   "cell_type": "code",
   "execution_count": null,
   "metadata": {},
   "outputs": [],
   "source": []
  }
 ],
 "metadata": {
  "kernelspec": {
   "display_name": "Python 3",
   "language": "python",
   "name": "python3"
  },
  "language_info": {
   "codemirror_mode": {
    "name": "ipython",
    "version": 3
   },
   "file_extension": ".py",
   "mimetype": "text/x-python",
   "name": "python",
   "nbconvert_exporter": "python",
   "pygments_lexer": "ipython3",
   "version": "3.7.6"
  },
  "pycharm": {
   "stem_cell": {
    "cell_type": "raw",
    "source": [],
    "metadata": {
     "collapsed": false
    }
   }
  }
 },
 "nbformat": 4,
 "nbformat_minor": 4
}